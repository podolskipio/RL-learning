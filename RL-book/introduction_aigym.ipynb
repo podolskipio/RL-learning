{
 "cells": [
  {
   "cell_type": "code",
   "id": "initial_id",
   "metadata": {
    "collapsed": true,
    "ExecuteTime": {
     "end_time": "2025-07-04T19:16:06.638227Z",
     "start_time": "2025-07-04T19:16:06.618117Z"
    }
   },
   "source": [
    "import random\n",
    "\n",
    "\n",
    "class Environment:\n",
    "    def __init__(self):\n",
    "        self.steps_left = 10\n",
    "\n",
    "    def get_observation(self) -> list[float]:\n",
    "        return [0.0, 0.0, 0.0]\n",
    "\n",
    "    def get_actions(self) -> list[int]:\n",
    "        return [0, 1]\n",
    "\n",
    "    def is_done(self) -> bool:\n",
    "        return self.steps_left == 0\n",
    "\n",
    "    def action(self, action: int) -> float:\n",
    "        if self.is_done():\n",
    "            raise RuntimeError(\"Environment is done\")\n",
    "        self.steps_left -= 1\n",
    "        return random.random()\n",
    "\n",
    "\n",
    "class Agent:\n",
    "    def __init__(self):\n",
    "        self.total_reward = 0\n",
    "\n",
    "    def step(self, env: Environment):\n",
    "        current_observation = env.get_observation()\n",
    "        actions = env.get_actions()\n",
    "        reward = env.action(random.choice(actions))\n",
    "        self.total_reward += reward"
   ],
   "outputs": [],
   "execution_count": 1
  },
  {
   "metadata": {
    "ExecuteTime": {
     "end_time": "2025-07-04T19:16:06.677601Z",
     "start_time": "2025-07-04T19:16:06.661889Z"
    }
   },
   "cell_type": "code",
   "source": [
    "env = Environment()\n",
    "agent = Agent()\n",
    "while not env.is_done():\n",
    "    agent.step(env)"
   ],
   "id": "a099ea44b5d64e86",
   "outputs": [],
   "execution_count": 2
  },
  {
   "metadata": {
    "ExecuteTime": {
     "end_time": "2025-07-04T19:47:19.599488Z",
     "start_time": "2025-07-04T19:47:19.586643Z"
    }
   },
   "cell_type": "code",
   "source": [
    "import gym\n",
    "\n",
    "env = gym.make('CartPole-v1')"
   ],
   "id": "e8a5141359173e4d",
   "outputs": [],
   "execution_count": 4
  },
  {
   "metadata": {
    "ExecuteTime": {
     "end_time": "2025-07-04T19:47:32.581148Z",
     "start_time": "2025-07-04T19:47:32.570828Z"
    }
   },
   "cell_type": "code",
   "source": [
    "obs = env.reset()\n",
    "obs"
   ],
   "id": "11fd1c28014ea802",
   "outputs": [
    {
     "data": {
      "text/plain": [
       "(array([0.02111898, 0.00135134, 0.02777854, 0.00716735], dtype=float32), {})"
      ]
     },
     "execution_count": 6,
     "metadata": {},
     "output_type": "execute_result"
    }
   ],
   "execution_count": 6
  },
  {
   "metadata": {
    "ExecuteTime": {
     "end_time": "2025-07-04T19:47:54.015333Z",
     "start_time": "2025-07-04T19:47:54.000932Z"
    }
   },
   "cell_type": "code",
   "source": "env.action_space",
   "id": "cab2bd93f01846dd",
   "outputs": [
    {
     "data": {
      "text/plain": [
       "Discrete(2)"
      ]
     },
     "execution_count": 7,
     "metadata": {},
     "output_type": "execute_result"
    }
   ],
   "execution_count": 7
  },
  {
   "metadata": {
    "ExecuteTime": {
     "end_time": "2025-07-04T19:48:41.554282Z",
     "start_time": "2025-07-04T19:48:41.543528Z"
    }
   },
   "cell_type": "code",
   "source": "env.step(0)",
   "id": "f26e9bf32357b80a",
   "outputs": [
    {
     "data": {
      "text/plain": [
       "(array([ 0.01727396, -0.1950384 ,  0.03458628,  0.32797697], dtype=float32),\n",
       " 1.0,\n",
       " False,\n",
       " False,\n",
       " {})"
      ]
     },
     "execution_count": 12,
     "metadata": {},
     "output_type": "execute_result"
    }
   ],
   "execution_count": 12
  },
  {
   "metadata": {
    "ExecuteTime": {
     "end_time": "2025-07-04T19:49:01.120329Z",
     "start_time": "2025-07-04T19:49:01.105590Z"
    }
   },
   "cell_type": "code",
   "source": "env.action_space.sample()",
   "id": "51698a70aa23f6a0",
   "outputs": [
    {
     "data": {
      "text/plain": [
       "1"
      ]
     },
     "execution_count": 13,
     "metadata": {},
     "output_type": "execute_result"
    }
   ],
   "execution_count": 13
  },
  {
   "metadata": {
    "ExecuteTime": {
     "end_time": "2025-07-10T16:53:06.029495Z",
     "start_time": "2025-07-10T16:53:04.883288Z"
    }
   },
   "cell_type": "code",
   "source": "import torch",
   "id": "83d40a1635dbbbf0",
   "outputs": [],
   "execution_count": 1
  },
  {
   "metadata": {
    "ExecuteTime": {
     "end_time": "2025-07-10T16:53:06.042357Z",
     "start_time": "2025-07-10T16:53:06.033101Z"
    }
   },
   "cell_type": "code",
   "source": "import numpy as np",
   "id": "f764ca7769e85111",
   "outputs": [],
   "execution_count": 2
  },
  {
   "metadata": {
    "ExecuteTime": {
     "end_time": "2025-07-10T16:53:06.201313Z",
     "start_time": "2025-07-10T16:53:06.187096Z"
    }
   },
   "cell_type": "code",
   "source": "a = torch.FloatTensor(3,2)",
   "id": "dd19885f223164b5",
   "outputs": [],
   "execution_count": 3
  },
  {
   "metadata": {
    "ExecuteTime": {
     "end_time": "2025-07-10T16:53:06.231046Z",
     "start_time": "2025-07-10T16:53:06.217304Z"
    }
   },
   "cell_type": "code",
   "source": "print(a)",
   "id": "c0a9cd7c2a5dab2d",
   "outputs": [
    {
     "name": "stdout",
     "output_type": "stream",
     "text": [
      "tensor([[1.1888e+29, 1.2373e-42],\n",
      "        [0.0000e+00, 0.0000e+00],\n",
      "        [0.0000e+00, 0.0000e+00]])\n"
     ]
    }
   ],
   "execution_count": 4
  },
  {
   "metadata": {
    "ExecuteTime": {
     "end_time": "2025-07-10T16:53:06.308532Z",
     "start_time": "2025-07-10T16:53:06.290147Z"
    }
   },
   "cell_type": "code",
   "source": "a.zero_()",
   "id": "b976a572620f3d95",
   "outputs": [
    {
     "data": {
      "text/plain": [
       "tensor([[0., 0.],\n",
       "        [0., 0.],\n",
       "        [0., 0.]])"
      ]
     },
     "execution_count": 5,
     "metadata": {},
     "output_type": "execute_result"
    }
   ],
   "execution_count": 5
  },
  {
   "metadata": {
    "ExecuteTime": {
     "end_time": "2025-07-10T16:53:06.367232Z",
     "start_time": "2025-07-10T16:53:06.353158Z"
    }
   },
   "cell_type": "code",
   "source": "n = np.zeros(shape=(3,2), dtype=np.float16)",
   "id": "5fb8ed177ef46ae8",
   "outputs": [],
   "execution_count": 6
  },
  {
   "metadata": {
    "ExecuteTime": {
     "end_time": "2025-07-10T16:53:06.406744Z",
     "start_time": "2025-07-10T16:53:06.394115Z"
    }
   },
   "cell_type": "code",
   "source": "n",
   "id": "e39e1836caf07fdc",
   "outputs": [
    {
     "data": {
      "text/plain": [
       "array([[0., 0.],\n",
       "       [0., 0.],\n",
       "       [0., 0.]], dtype=float16)"
      ]
     },
     "execution_count": 7,
     "metadata": {},
     "output_type": "execute_result"
    }
   ],
   "execution_count": 7
  },
  {
   "metadata": {
    "ExecuteTime": {
     "end_time": "2025-07-10T16:53:06.451429Z",
     "start_time": "2025-07-10T16:53:06.436892Z"
    }
   },
   "cell_type": "code",
   "source": "b=torch.tensor(n)",
   "id": "4884de55fd5ecee2",
   "outputs": [],
   "execution_count": 8
  },
  {
   "metadata": {
    "ExecuteTime": {
     "end_time": "2025-07-10T16:53:06.971533Z",
     "start_time": "2025-07-10T16:53:06.957569Z"
    }
   },
   "cell_type": "code",
   "source": "print(b)",
   "id": "cc689cc38213153b",
   "outputs": [
    {
     "name": "stdout",
     "output_type": "stream",
     "text": [
      "tensor([[0., 0.],\n",
      "        [0., 0.],\n",
      "        [0., 0.]], dtype=torch.float16)\n"
     ]
    }
   ],
   "execution_count": 9
  },
  {
   "metadata": {
    "ExecuteTime": {
     "end_time": "2025-07-10T16:53:26.971331Z",
     "start_time": "2025-07-10T16:53:26.956246Z"
    }
   },
   "cell_type": "code",
   "source": "b = b.to('cuda')",
   "id": "de79fe0b4da9c6e1",
   "outputs": [],
   "execution_count": 11
  },
  {
   "metadata": {
    "ExecuteTime": {
     "end_time": "2025-07-10T16:53:28.224983Z",
     "start_time": "2025-07-10T16:53:28.210648Z"
    }
   },
   "cell_type": "code",
   "source": "b",
   "id": "6087ab58a09975a",
   "outputs": [
    {
     "data": {
      "text/plain": [
       "tensor([[0., 0.],\n",
       "        [0., 0.],\n",
       "        [0., 0.]], device='cuda:0', dtype=torch.float16)"
      ]
     },
     "execution_count": 12,
     "metadata": {},
     "output_type": "execute_result"
    }
   ],
   "execution_count": 12
  },
  {
   "metadata": {
    "ExecuteTime": {
     "end_time": "2025-07-10T16:53:31.956030Z",
     "start_time": "2025-07-10T16:53:31.943312Z"
    }
   },
   "cell_type": "code",
   "source": "print(b)",
   "id": "898719138c0f24f2",
   "outputs": [
    {
     "name": "stdout",
     "output_type": "stream",
     "text": [
      "tensor([[0., 0.],\n",
      "        [0., 0.],\n",
      "        [0., 0.]], device='cuda:0', dtype=torch.float16)\n"
     ]
    }
   ],
   "execution_count": 13
  },
  {
   "metadata": {},
   "cell_type": "code",
   "outputs": [],
   "execution_count": null,
   "source": "",
   "id": "7ec7007e06bee55"
  }
 ],
 "metadata": {
  "kernelspec": {
   "display_name": "Python 3",
   "language": "python",
   "name": "python3"
  },
  "language_info": {
   "codemirror_mode": {
    "name": "ipython",
    "version": 2
   },
   "file_extension": ".py",
   "mimetype": "text/x-python",
   "name": "python",
   "nbconvert_exporter": "python",
   "pygments_lexer": "ipython2",
   "version": "2.7.6"
  }
 },
 "nbformat": 4,
 "nbformat_minor": 5
}
